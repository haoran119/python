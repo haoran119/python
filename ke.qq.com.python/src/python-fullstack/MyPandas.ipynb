{
 "cells": [
  {
   "cell_type": "code",
   "execution_count": 1,
   "metadata": {},
   "outputs": [],
   "source": [
    "import pandas as pd\n",
    "import numpy as np"
   ]
  },
  {
   "cell_type": "code",
   "execution_count": 2,
   "metadata": {},
   "outputs": [
    {
     "name": "stdout",
     "output_type": "stream",
     "text": [
      "         date   hour  pressure  wind_direction  temperature\n",
      "0  2016-07-01    0.0    1000.4           225.0         26.4\n",
      "1  2016-07-01    NaN       NaN             NaN          NaN\n",
      "2  2016-07-01    6.0     998.9           212.0         31.7\n",
      "3  2016-07-01  235.0     998.7           244.0          NaN\n",
      "4  2016-07-01   12.0     999.7           222.0          NaN\n",
      "5  2016-07-01   15.0    1000.0           102.0          NaN\n",
      "6  2016-07-01    NaN     998.8           202.0         26.0\n",
      "7  2016-07-01    NaN    1000.2           334.0         25.5\n",
      "8  2016-07-01    NaN    1000.2           334.0         25.5\n",
      "9  2016-07-02    3.0    1002.4            46.0         30.0\n",
      "10 2016-07-02    6.0    1001.3            37.0         29.3\n",
      "11 2016-07-02    9.0    1001.9           345.0         25.9\n",
      "12 2016-07-02   12.0    1003.6           113.0         25.1\n",
      "13 2016-07-02   12.0    1003.6           113.0         25.1\n",
      "14 2016-07-02   15.0    1002.4           138.0         25.3\n",
      "             hour     pressure  wind_direction  temperature\n",
      "count   11.000000    14.000000       14.000000    11.000000\n",
      "mean    29.545455  1000.864286      190.500000    26.890909\n",
      "std     68.313049     1.685963      102.932951     2.311473\n",
      "min      0.000000   998.700000       37.000000    25.100000\n",
      "25%      6.000000   999.775000      113.000000    25.400000\n",
      "50%     12.000000  1000.300000      207.000000    25.900000\n",
      "75%     13.500000  1002.275000      239.250000    27.850000\n",
      "max    235.000000  1003.600000      345.000000    31.700000\n"
     ]
    }
   ],
   "source": [
    "data = pd.DataFrame(pd.read_excel('originalData.xlsx'))\n",
    "print(data)\n",
    "print(data.describe())"
   ]
  },
  {
   "cell_type": "code",
   "execution_count": 3,
   "metadata": {},
   "outputs": [
    {
     "name": "stdout",
     "output_type": "stream",
     "text": [
      "RangeIndex(start=0, stop=15, step=1)\n",
      "Index(['date', 'hour', 'pressure', 'wind_direction', 'temperature'], dtype='object')\n"
     ]
    }
   ],
   "source": [
    "print(data.index)\n",
    "print(data.columns)"
   ]
  },
  {
   "cell_type": "code",
   "execution_count": 4,
   "metadata": {},
   "outputs": [
    {
     "name": "stdout",
     "output_type": "stream",
     "text": [
      "        date   hour  pressure  wind_direction  temperature\n",
      "0 2016-07-01    0.0    1000.4           225.0         26.4\n",
      "1 2016-07-01    NaN       NaN             NaN          NaN\n",
      "2 2016-07-01    6.0     998.9           212.0         31.7\n",
      "3 2016-07-01  235.0     998.7           244.0          NaN\n",
      "4 2016-07-01   12.0     999.7           222.0          NaN\n",
      "5 2016-07-01   15.0    1000.0           102.0          NaN\n",
      "         date  hour  pressure  wind_direction  temperature\n",
      "9  2016-07-02   3.0    1002.4            46.0         30.0\n",
      "10 2016-07-02   6.0    1001.3            37.0         29.3\n",
      "11 2016-07-02   9.0    1001.9           345.0         25.9\n",
      "12 2016-07-02  12.0    1003.6           113.0         25.1\n",
      "13 2016-07-02  12.0    1003.6           113.0         25.1\n",
      "14 2016-07-02  15.0    1002.4           138.0         25.3\n"
     ]
    }
   ],
   "source": [
    "print(data.head(6))\n",
    "print(data.tail(6))"
   ]
  },
  {
   "cell_type": "code",
   "execution_count": 5,
   "metadata": {},
   "outputs": [
    {
     "name": "stdout",
     "output_type": "stream",
     "text": [
      "         date   hour  pressure  wind_direction  temperature\n",
      "0  2016-07-01    0.0    1000.4           225.0         26.4\n",
      "1  2016-07-01    6.0     998.9           212.0         31.7\n",
      "2  2016-07-01  235.0     998.7           244.0          NaN\n",
      "3  2016-07-01   12.0     999.7           222.0          NaN\n",
      "4  2016-07-01   15.0    1000.0           102.0          NaN\n",
      "5  2016-07-01    NaN     998.8           202.0         26.0\n",
      "6  2016-07-01    NaN    1000.2           334.0         25.5\n",
      "7  2016-07-01    NaN    1000.2           334.0         25.5\n",
      "8  2016-07-02    3.0    1002.4            46.0         30.0\n",
      "9  2016-07-02    6.0    1001.3            37.0         29.3\n",
      "10 2016-07-02    9.0    1001.9           345.0         25.9\n",
      "11 2016-07-02   12.0    1003.6           113.0         25.1\n",
      "12 2016-07-02   12.0    1003.6           113.0         25.1\n",
      "13 2016-07-02   15.0    1002.4           138.0         25.3\n"
     ]
    }
   ],
   "source": [
    "# 1. 删掉空白值超过3的行\n",
    "data.dropna(axis=0, thresh=3, inplace=True)\n",
    "data.reset_index(drop=True, inplace=True)\n",
    "print(data)"
   ]
  },
  {
   "cell_type": "code",
   "execution_count": 6,
   "metadata": {},
   "outputs": [
    {
     "name": "stdout",
     "output_type": "stream",
     "text": [
      "         date   hour  pressure  wind_direction  temperature\n",
      "0  2016-07-01    0.0    1000.4           225.0         26.4\n",
      "1  2016-07-01    6.0     998.9           212.0         31.7\n",
      "2  2016-07-01  235.0     998.7           244.0         25.5\n",
      "3  2016-07-01   12.0     999.7           222.0         25.5\n",
      "4  2016-07-01   15.0    1000.0           102.0         25.5\n",
      "5  2016-07-01   10.0     998.8           202.0         26.0\n",
      "6  2016-07-01   10.0    1000.2           334.0         25.5\n",
      "7  2016-07-01   10.0    1000.2           334.0         25.5\n",
      "8  2016-07-02    3.0    1002.4            46.0         30.0\n",
      "9  2016-07-02    6.0    1001.3            37.0         29.3\n",
      "10 2016-07-02    9.0    1001.9           345.0         25.9\n",
      "11 2016-07-02   12.0    1003.6           113.0         25.1\n",
      "12 2016-07-02   12.0    1003.6           113.0         25.1\n",
      "13 2016-07-02   15.0    1002.4           138.0         25.3\n"
     ]
    }
   ],
   "source": [
    "# 2. 填充空白，hour填充10，temperature填充25.5\n",
    "data.fillna({'hour':10, 'temperature':25.5}, inplace=True)\n",
    "print(data)"
   ]
  },
  {
   "cell_type": "code",
   "execution_count": 7,
   "metadata": {},
   "outputs": [
    {
     "name": "stdout",
     "output_type": "stream",
     "text": [
      "hour > 24, deleted\n",
      "         date  hour  pressure  wind_direction  temperature\n",
      "0  2016-07-01   0.0    1000.4           225.0         26.4\n",
      "1  2016-07-01   6.0     998.9           212.0         31.7\n",
      "2  2016-07-01  12.0     999.7           222.0         25.5\n",
      "3  2016-07-01  15.0    1000.0           102.0         25.5\n",
      "4  2016-07-01  10.0     998.8           202.0         26.0\n",
      "5  2016-07-01  10.0    1000.2           334.0         25.5\n",
      "6  2016-07-01  10.0    1000.2           334.0         25.5\n",
      "7  2016-07-02   3.0    1002.4            46.0         30.0\n",
      "8  2016-07-02   6.0    1001.3            37.0         29.3\n",
      "9  2016-07-02   9.0    1001.9           345.0         25.9\n",
      "10 2016-07-02  12.0    1003.6           113.0         25.1\n",
      "11 2016-07-02  12.0    1003.6           113.0         25.1\n",
      "12 2016-07-02  15.0    1002.4           138.0         25.3\n"
     ]
    }
   ],
   "source": [
    "# 3. 删掉hour>24的行\n",
    "num = data.index.max()\n",
    "\n",
    "for i in range(num):\n",
    "    if data.loc[i, 'hour'] > 24:\n",
    "        data.drop([i], inplace=True)\n",
    "        print('hour > 24, deleted')\n",
    "        \n",
    "data.reset_index(drop=True, inplace=True)        \n",
    "print(data)"
   ]
  },
  {
   "cell_type": "code",
   "execution_count": 8,
   "metadata": {},
   "outputs": [
    {
     "name": "stdout",
     "output_type": "stream",
     "text": [
      "         date  hour  pressure  wind_direction  temperature\n",
      "0  2016-07-01   0.0    1000.4           225.0         26.4\n",
      "1  2016-07-01   6.0     998.9           212.0         31.7\n",
      "2  2016-07-01  12.0     999.7           222.0         25.5\n",
      "3  2016-07-01  15.0    1000.0           102.0         25.5\n",
      "4  2016-07-01  10.0     998.8           202.0         26.0\n",
      "5  2016-07-01  10.0    1000.2           334.0         25.5\n",
      "6  2016-07-02   3.0    1002.4            46.0         30.0\n",
      "7  2016-07-02   6.0    1001.3            37.0         29.3\n",
      "8  2016-07-02   9.0    1001.9           345.0         25.9\n",
      "9  2016-07-02  12.0    1003.6           113.0         25.1\n",
      "10 2016-07-02  15.0    1002.4           138.0         25.3\n"
     ]
    }
   ],
   "source": [
    "# 4. 删掉重复的数据行，保留出现的第一行（全部删掉？保留最后一行？）\n",
    "data.drop_duplicates(keep='first', inplace=True)\n",
    "data.reset_index(drop=True, inplace=True)\n",
    "print(data)"
   ]
  },
  {
   "cell_type": "code",
   "execution_count": 9,
   "metadata": {},
   "outputs": [
    {
     "name": "stdout",
     "output_type": "stream",
     "text": [
      "[ 4  0 10  3  1  5  8  9  7  2  6]\n"
     ]
    }
   ],
   "source": [
    "# 5. 数据重排\n",
    "randnum = np.random.permutation(data.index.size)\n",
    "print(randnum)"
   ]
  },
  {
   "cell_type": "code",
   "execution_count": 10,
   "metadata": {},
   "outputs": [
    {
     "name": "stdout",
     "output_type": "stream",
     "text": [
      "         date  hour  pressure  wind_direction  temperature\n",
      "4  2016-07-01  10.0     998.8           202.0         26.0\n",
      "0  2016-07-01   0.0    1000.4           225.0         26.4\n",
      "10 2016-07-02  15.0    1002.4           138.0         25.3\n",
      "3  2016-07-01  15.0    1000.0           102.0         25.5\n",
      "1  2016-07-01   6.0     998.9           212.0         31.7\n",
      "5  2016-07-01  10.0    1000.2           334.0         25.5\n",
      "8  2016-07-02   9.0    1001.9           345.0         25.9\n",
      "9  2016-07-02  12.0    1003.6           113.0         25.1\n",
      "7  2016-07-02   6.0    1001.3            37.0         29.3\n",
      "2  2016-07-01  12.0     999.7           222.0         25.5\n",
      "6  2016-07-02   3.0    1002.4            46.0         30.0\n"
     ]
    }
   ],
   "source": [
    "data2 = data.take(randnum)\n",
    "print(data2)"
   ]
  },
  {
   "cell_type": "code",
   "execution_count": 11,
   "metadata": {},
   "outputs": [
    {
     "name": "stdout",
     "output_type": "stream",
     "text": [
      "        date  hour  pressure  wind_direction  temperature\n",
      "4 2016-07-01  10.0     998.8           202.0         26.0\n",
      "0 2016-07-01   0.0    1000.4           225.0         26.4\n",
      "2 2016-07-01  12.0     999.7           222.0         25.5\n",
      "1 2016-07-01   6.0     998.9           212.0         31.7\n",
      "5 2016-07-01  10.0    1000.2           334.0         25.5\n",
      "9 2016-07-02  12.0    1003.6           113.0         25.1\n",
      "7 2016-07-02   6.0    1001.3            37.0         29.3\n",
      "8 2016-07-02   9.0    1001.9           345.0         25.9\n"
     ]
    }
   ],
   "source": [
    "# 6. 随机采样\n",
    "data3 = data.sample(8)\n",
    "print(data3)\n",
    "data3.to_csv('data3.csv')"
   ]
  }
 ],
 "metadata": {
  "kernelspec": {
   "display_name": "Python 3",
   "language": "python",
   "name": "python3"
  },
  "language_info": {
   "codemirror_mode": {
    "name": "ipython",
    "version": 3
   },
   "file_extension": ".py",
   "mimetype": "text/x-python",
   "name": "python",
   "nbconvert_exporter": "python",
   "pygments_lexer": "ipython3",
   "version": "3.6.4"
  }
 },
 "nbformat": 4,
 "nbformat_minor": 2
}
