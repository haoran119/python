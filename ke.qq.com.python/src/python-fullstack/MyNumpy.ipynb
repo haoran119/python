{
 "cells": [
  {
   "cell_type": "code",
   "execution_count": 1,
   "metadata": {},
   "outputs": [],
   "source": [
    "import numpy as np"
   ]
  },
  {
   "cell_type": "code",
   "execution_count": 2,
   "metadata": {},
   "outputs": [],
   "source": [
    "# 创建数组\n",
    "\n",
    "list1 = [ 1, 3, 5, -2, 0, -9 ]\n",
    "list2 = [ 2, 4, -3, -7, 1, -7 ]\n",
    "list3 = [ [2, 5, 0], [11, 3, 4] ]\n",
    "list4 = [ [3, -1, 8], [9, -3, 9] ]"
   ]
  },
  {
   "cell_type": "code",
   "execution_count": 3,
   "metadata": {},
   "outputs": [
    {
     "name": "stdout",
     "output_type": "stream",
     "text": [
      "[ 1  3  5 -2  0 -9]\n"
     ]
    }
   ],
   "source": [
    "arr1 = np.array( list1 )\n",
    "print(arr1)"
   ]
  },
  {
   "cell_type": "code",
   "execution_count": 4,
   "metadata": {},
   "outputs": [
    {
     "name": "stdout",
     "output_type": "stream",
     "text": [
      "[[ 2  5  0]\n",
      " [11  3  4]]\n"
     ]
    }
   ],
   "source": [
    "arr4 = np.array( list3 )\n",
    "print(arr4)"
   ]
  },
  {
   "cell_type": "code",
   "execution_count": 5,
   "metadata": {},
   "outputs": [
    {
     "name": "stdout",
     "output_type": "stream",
     "text": [
      "[1 3 5 7 9]\n"
     ]
    }
   ],
   "source": [
    "arr2 = np.arange( 1, 10, 2 )\n",
    "print(arr2)"
   ]
  },
  {
   "cell_type": "code",
   "execution_count": 6,
   "metadata": {},
   "outputs": [
    {
     "name": "stdout",
     "output_type": "stream",
     "text": [
      "[ 1.  4.  7. 10.]\n"
     ]
    }
   ],
   "source": [
    "arr3 = np.linspace( 1, 10, 4 )\n",
    "print(arr3)"
   ]
  },
  {
   "cell_type": "code",
   "execution_count": 7,
   "metadata": {},
   "outputs": [
    {
     "name": "stdout",
     "output_type": "stream",
     "text": [
      "[[0. 0. 0. 0.]\n",
      " [0. 0. 0. 0.]\n",
      " [0. 0. 0. 0.]]\n"
     ]
    }
   ],
   "source": [
    "arr_zero = np.zeros( (3, 4)) # zeros参数是元组()\n",
    "print(arr_zero)"
   ]
  },
  {
   "cell_type": "code",
   "execution_count": 8,
   "metadata": {},
   "outputs": [
    {
     "name": "stdout",
     "output_type": "stream",
     "text": [
      "[[1. 1. 1.]\n",
      " [1. 1. 1.]\n",
      " [1. 1. 1.]]\n",
      "[[100. 100. 100.]\n",
      " [100. 100. 100.]\n",
      " [100. 100. 100.]]\n"
     ]
    }
   ],
   "source": [
    "arr_one = np.ones( (3, 3) )\n",
    "print(arr_one)\n",
    "print(arr_one * 100)"
   ]
  },
  {
   "cell_type": "code",
   "execution_count": 9,
   "metadata": {},
   "outputs": [
    {
     "name": "stdout",
     "output_type": "stream",
     "text": [
      "[[1. 0. 0. 0.]\n",
      " [0. 1. 0. 0.]\n",
      " [0. 0. 1. 0.]\n",
      " [0. 0. 0. 1.]]\n"
     ]
    }
   ],
   "source": [
    "arr_eye = np.eye( 4, 4 ) # 对角线上元素为1，其他为0\n",
    "print(arr_eye)"
   ]
  },
  {
   "cell_type": "code",
   "execution_count": 10,
   "metadata": {},
   "outputs": [
    {
     "name": "stdout",
     "output_type": "stream",
     "text": [
      "[[1. 0. 0. 0. 0.]\n",
      " [0. 1. 0. 0. 0.]\n",
      " [0. 0. 1. 0. 0.]\n",
      " [0. 0. 0. 1. 0.]]\n"
     ]
    }
   ],
   "source": [
    "arr_eye2 = np.eye( 4, 5 )\n",
    "print(arr_eye2)"
   ]
  },
  {
   "cell_type": "code",
   "execution_count": 11,
   "metadata": {},
   "outputs": [
    {
     "name": "stdout",
     "output_type": "stream",
     "text": [
      "[ 5 -2  0]\n",
      "[[3 4]]\n"
     ]
    }
   ],
   "source": [
    "# 数组的索引和切片\n",
    "\n",
    "print(arr1[2:5]) # 左闭右开\n",
    "print(arr4[1:2, 1:3])"
   ]
  },
  {
   "cell_type": "code",
   "execution_count": 12,
   "metadata": {},
   "outputs": [
    {
     "name": "stdout",
     "output_type": "stream",
     "text": [
      "sqrt : \n",
      " [[1.41421356 2.23606798 0.        ]\n",
      " [3.31662479 1.73205081 2.        ]]\n",
      "exp : \n",
      " [[7.38905610e+00 1.48413159e+02 1.00000000e+00]\n",
      " [5.98741417e+04 2.00855369e+01 5.45981500e+01]]\n"
     ]
    }
   ],
   "source": [
    "# 通用的函数\n",
    "\n",
    "print(\"sqrt : \\n\", np.sqrt(arr4))\n",
    "print(\"exp : \\n\", np.exp(arr4))"
   ]
  },
  {
   "cell_type": "code",
   "execution_count": 13,
   "metadata": {},
   "outputs": [
    {
     "name": "stdout",
     "output_type": "stream",
     "text": [
      "[ 2  4  5 -2  1 -7]\n"
     ]
    }
   ],
   "source": [
    "arr2 = np.array( list2 )\n",
    "new_arr = np.maximum( arr1, arr2 )\n",
    "print(new_arr)"
   ]
  },
  {
   "cell_type": "code",
   "execution_count": 14,
   "metadata": {},
   "outputs": [
    {
     "name": "stdout",
     "output_type": "stream",
     "text": [
      "[1 3 5 0 0 0]\n"
     ]
    }
   ],
   "source": [
    "# ReLU >0 保留原值，<0 取0\n",
    "new_arr = np.maximum(0, arr1)\n",
    "print(new_arr)"
   ]
  },
  {
   "cell_type": "code",
   "execution_count": 15,
   "metadata": {},
   "outputs": [
    {
     "name": "stdout",
     "output_type": "stream",
     "text": [
      "(array([[0.41421356, 0.23606798, 0.        ],\n",
      "       [0.31662479, 0.73205081, 0.        ]]), array([[1., 2., 0.],\n",
      "       [3., 1., 2.]]))\n"
     ]
    }
   ],
   "source": [
    "print( np.modf( np.sqrt( arr4 ) ) ) # 把整数部分和小数部分，生成两个独立的数组"
   ]
  },
  {
   "cell_type": "code",
   "execution_count": 16,
   "metadata": {},
   "outputs": [
    {
     "name": "stdout",
     "output_type": "stream",
     "text": [
      "['True' 'True' 'False' 'False' 'True' 'False']\n"
     ]
    }
   ],
   "source": [
    "new_arr1 = np.where( arr2>0, 'True', 'False' ) # if condition: x, y\n",
    "print(new_arr1)"
   ]
  },
  {
   "cell_type": "code",
   "execution_count": 17,
   "metadata": {},
   "outputs": [
    {
     "name": "stdout",
     "output_type": "stream",
     "text": [
      "[-7 -3  1  2  4]\n",
      "[ 0  2  3  4  5 11]\n"
     ]
    }
   ],
   "source": [
    "print( np.unique( arr2 ) )\n",
    "print( np.unique( arr4 ) )"
   ]
  },
  {
   "cell_type": "code",
   "execution_count": 18,
   "metadata": {},
   "outputs": [],
   "source": [
    "# 数组作为文件来输入和输出\n",
    "\n",
    "np.save( 'myarr', arr2 ) # 把数组保存为文件 .npy"
   ]
  },
  {
   "cell_type": "code",
   "execution_count": 19,
   "metadata": {},
   "outputs": [
    {
     "name": "stdout",
     "output_type": "stream",
     "text": [
      "[ 2  4 -3 -7  1 -7]\n"
     ]
    }
   ],
   "source": [
    "new_arr2 = np.load( 'myarr.npy' )\n",
    "print(new_arr2)"
   ]
  },
  {
   "cell_type": "code",
   "execution_count": 20,
   "metadata": {},
   "outputs": [
    {
     "name": "stdout",
     "output_type": "stream",
     "text": [
      "[ 1  3  5 -2  0 -9]\n"
     ]
    }
   ],
   "source": [
    "np.savez( 'myarrzip', a1=arr1, a2=arr2, a3=arr3 )\n",
    "arr = np.load( 'myarrzip.npz' )\n",
    "print(arr['a1'])"
   ]
  },
  {
   "cell_type": "code",
   "execution_count": 21,
   "metadata": {},
   "outputs": [
    {
     "name": "stdout",
     "output_type": "stream",
     "text": [
      "[[ 2  5  0  3 -1  8]\n",
      " [11  3  4  9 -3  9]]\n",
      "[[ 2  5  0]\n",
      " [11  3  4]\n",
      " [ 3 -1  8]\n",
      " [ 9 -3  9]]\n"
     ]
    }
   ],
   "source": [
    "# 线性代数 矩阵\n",
    "# 矩阵的合并\n",
    "\n",
    "arr5 = np.array( list3 )\n",
    "arr6 = np.array( list4 )\n",
    "print( np.hstack( [arr5, arr6] ) )\n",
    "print( np.vstack( [arr5, arr6] ) )"
   ]
  },
  {
   "cell_type": "code",
   "execution_count": 22,
   "metadata": {},
   "outputs": [
    {
     "name": "stdout",
     "output_type": "stream",
     "text": [
      "[[ 3 -1]\n",
      " [ 8  9]\n",
      " [-3  9]]\n",
      "[[ -5  12  -4]\n",
      " [115  67  36]\n",
      " [ 93  12  36]]\n"
     ]
    }
   ],
   "source": [
    "# 点乘\n",
    "\n",
    "arr6 = np.array( list4 ).reshape( 3, 2 ) \n",
    "print( arr6 )\n",
    "print( arr6.dot( arr5 ) )"
   ]
  },
  {
   "cell_type": "code",
   "execution_count": 23,
   "metadata": {},
   "outputs": [
    {
     "name": "stdout",
     "output_type": "stream",
     "text": [
      "[[ 3  8 -3]\n",
      " [-1  9  9]]\n"
     ]
    }
   ],
   "source": [
    "print( np.transpose(arr6) ) # 转置"
   ]
  },
  {
   "cell_type": "code",
   "execution_count": null,
   "metadata": {},
   "outputs": [],
   "source": []
  }
 ],
 "metadata": {
  "kernelspec": {
   "display_name": "Python 3",
   "language": "python",
   "name": "python3"
  },
  "language_info": {
   "codemirror_mode": {
    "name": "ipython",
    "version": 3
   },
   "file_extension": ".py",
   "mimetype": "text/x-python",
   "name": "python",
   "nbconvert_exporter": "python",
   "pygments_lexer": "ipython3",
   "version": "3.6.4"
  }
 },
 "nbformat": 4,
 "nbformat_minor": 2
}
